{
 "cells": [
  {
   "cell_type": "code",
   "execution_count": null,
   "metadata": {},
   "outputs": [],
   "source": [
    "# Copyright (c) Microsoft Corporation. All rights reserved.\n",
    "# Licensed under the MIT License."
   ]
  },
  {
   "cell_type": "code",
   "execution_count": 1,
   "metadata": {
    "tags": []
   },
   "outputs": [],
   "source": [
    "import numpy as np\n",
    "import pandas as pd \n",
    "from stock_energy.missingprocessor import Processor\n",
    "import pickle\n"
   ]
  },
  {
   "cell_type": "code",
   "execution_count": 3,
   "metadata": {
    "tags": []
   },
   "outputs": [
    {
     "name": "stdout",
     "output_type": "stream",
     "text": [
      "(1218, 23, 1200)\n",
      "800 (100, 5) 100\n"
     ]
    }
   ],
   "source": [
    "## Load GENE dataset \n",
    "# fname='/Users/venkitesh_work/Documents/work/Sapient_AI/Data/Ousai_encoder_data/Saved_data/GENE_dataset/npy_files_ML_input/gene_ml.npy'\n",
    "# ip_data = np.load(fname)\n",
    "# print(ip_data.shape)\n",
    "\n",
    "# f_info='/Users/venkitesh_work/Documents/work/Sapient_AI/Data/Ousai_encoder_data/Saved_data/GENE_dataset/npy_files_ML_input/columns_gene.txt'\n",
    "# channel_names = np.loadtxt(f_info,delimiter=',',dtype=str)\n",
    "# channel_names = [i for i in channel_names if i] # Remove null strings\n",
    "\n",
    "## Load GA dataset \n",
    "# fname = '/Users/venkitesh_work/Documents/work/Sapient_AI/Data/Ousai_encoder_data/Saved_data/GA_dataset/npy_files_ML_input/ga_ml.npy'\n",
    "fname = '/Users/venkitesh_work/Documents/work/Sapient_AI/Data/Ousai_encoder_data/Saved_data/GA_dataset/npy_files_ML_input/normed_data/ga_normed_ml.npy'\n",
    "\n",
    "ip_data = np.load(fname)\n",
    "print(ip_data.shape)\n",
    "\n",
    "f_info='/Users/venkitesh_work/Documents/work/Sapient_AI/Data/Ousai_encoder_data/Saved_data/GA_dataset/npy_files_ML_input/columns_ga.txt'\n",
    "channel_names = np.loadtxt(f_info,delimiter=',',dtype=str)\n",
    "channel_names = [i for i in channel_names if i] # Remove null strings\n",
    "\n",
    "t_size       = 100\n",
    "train_size   = 800\n",
    "seq_len      = t_size\n",
    "channel_list =[1,2,6,12,21]\n",
    "\n",
    "temp_data = [i[channel_list,:t_size].T for i in ip_data[:train_size]]\n",
    "print(len(temp_data),temp_data[0].shape,seq_len)\n"
   ]
  },
  {
   "cell_type": "code",
   "execution_count": 4,
   "metadata": {
    "tags": []
   },
   "outputs": [
    {
     "data": {
      "text/html": [
       "<div>\n",
       "<style scoped>\n",
       "    .dataframe tbody tr th:only-of-type {\n",
       "        vertical-align: middle;\n",
       "    }\n",
       "\n",
       "    .dataframe tbody tr th {\n",
       "        vertical-align: top;\n",
       "    }\n",
       "\n",
       "    .dataframe thead th {\n",
       "        text-align: right;\n",
       "    }\n",
       "</style>\n",
       "<table border=\"1\" class=\"dataframe\">\n",
       "  <thead>\n",
       "    <tr style=\"text-align: right;\">\n",
       "      <th></th>\n",
       "      <th>density</th>\n",
       "      <th>kappa</th>\n",
       "      <th>vloop</th>\n",
       "      <th>tribot</th>\n",
       "      <th>poh</th>\n",
       "    </tr>\n",
       "  </thead>\n",
       "  <tbody>\n",
       "    <tr>\n",
       "      <th>0</th>\n",
       "      <td>-0.427921</td>\n",
       "      <td>0.272658</td>\n",
       "      <td>1.310819</td>\n",
       "      <td>0.698438</td>\n",
       "      <td>2.227408</td>\n",
       "    </tr>\n",
       "    <tr>\n",
       "      <th>1</th>\n",
       "      <td>0.349329</td>\n",
       "      <td>-0.449078</td>\n",
       "      <td>-0.506142</td>\n",
       "      <td>-0.737280</td>\n",
       "      <td>-0.551125</td>\n",
       "    </tr>\n",
       "    <tr>\n",
       "      <th>2</th>\n",
       "      <td>-1.152869</td>\n",
       "      <td>0.270440</td>\n",
       "      <td>-0.209020</td>\n",
       "      <td>-0.172159</td>\n",
       "      <td>-1.026438</td>\n",
       "    </tr>\n",
       "    <tr>\n",
       "      <th>3</th>\n",
       "      <td>0.496606</td>\n",
       "      <td>-0.466923</td>\n",
       "      <td>-0.493408</td>\n",
       "      <td>-1.003304</td>\n",
       "      <td>0.319370</td>\n",
       "    </tr>\n",
       "    <tr>\n",
       "      <th>4</th>\n",
       "      <td>-1.186968</td>\n",
       "      <td>0.440634</td>\n",
       "      <td>0.992907</td>\n",
       "      <td>-0.041743</td>\n",
       "      <td>3.318063</td>\n",
       "    </tr>\n",
       "  </tbody>\n",
       "</table>\n",
       "</div>"
      ],
      "text/plain": [
       "    density     kappa     vloop    tribot       poh\n",
       "0 -0.427921  0.272658  1.310819  0.698438  2.227408\n",
       "1  0.349329 -0.449078 -0.506142 -0.737280 -0.551125\n",
       "2 -1.152869  0.270440 -0.209020 -0.172159 -1.026438\n",
       "3  0.496606 -0.466923 -0.493408 -1.003304  0.319370\n",
       "4 -1.186968  0.440634  0.992907 -0.041743  3.318063"
      ]
     },
     "execution_count": 4,
     "metadata": {},
     "output_type": "execute_result"
    }
   ],
   "source": [
    "# Build Dataframe \n",
    "df=pd.DataFrame([])\n",
    "for ch in channel_list:\n",
    "    # print(channel_names[ch],ip_data[:,ch,0].shape)\n",
    "    df[channel_names[ch]]=ip_data[:,ch,0]\n",
    "    \n",
    "df.head()"
   ]
  },
  {
   "cell_type": "code",
   "execution_count": 5,
   "metadata": {
    "tags": []
   },
   "outputs": [
    {
     "name": "stdout",
     "output_type": "stream",
     "text": [
      "density 1 None continuous\n",
      "kappa 1 None continuous\n",
      "vloop 1 None continuous\n",
      "tribot 1 None continuous\n",
      "poh 1 None continuous\n",
      "100\n",
      "5 800\n"
     ]
    }
   ],
   "source": [
    "\n",
    "# data_path = \"../TimeGAN/data\"\n",
    "loc = \"stock\"\n",
    "# # seq_len = 24\n",
    "# df = pd.read_csv('{}/{}_data.csv'.format(data_path,loc), sep = \",\")\n",
    "types = [\"continuous\" for i in range(len(df.columns))]\n",
    "\n",
    "\n",
    "P = Processor(types)\n",
    "# Flip the data to make chronological data\n",
    "ori_data = P.fit_transform(df)\n",
    "ori_data = ori_data[::-1]\n",
    "\n",
    "# temp_data = [ori_data[i:i + seq_len] for i in range(0, len(ori_data) - seq_len)]    \n",
    "\n",
    "print(seq_len)\n",
    "from fastNLP import DataSet\n",
    "dataset = DataSet({\"seq_len\": [seq_len] * len(temp_data), \"dyn\": temp_data, \"sta\":[0]*len(temp_data)})\n",
    "dic = {\n",
    "    \"train_set\": dataset,\n",
    "    \"dynamic_processor\": P,\n",
    "    \"static_processor\": Processor([])\n",
    "}\n",
    "print(P.dim, len(temp_data))\n",
    "\n",
    "# raise SystemExit\n",
    "from utils.general import make_sure_path_exists\n",
    "make_sure_path_exists(\"./data\")\n",
    "with open(\"./data/{}.pkl\".format(loc), \"wb\") as f:\n",
    "    pickle.dump(dic, f)"
   ]
  },
  {
   "cell_type": "code",
   "execution_count": null,
   "metadata": {},
   "outputs": [],
   "source": []
  }
 ],
 "metadata": {
  "kernelspec": {
   "display_name": "v38",
   "language": "python",
   "name": "vpy38"
  },
  "language_info": {
   "codemirror_mode": {
    "name": "ipython",
    "version": 3
   },
   "file_extension": ".py",
   "mimetype": "text/x-python",
   "name": "python",
   "nbconvert_exporter": "python",
   "pygments_lexer": "ipython3",
   "version": "3.8.18"
  }
 },
 "nbformat": 4,
 "nbformat_minor": 4
}
